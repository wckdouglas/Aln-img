{
 "cells": [
  {
   "cell_type": "code",
   "execution_count": null,
   "id": "6c0065dc-9a79-4968-9650-bbf4a5651806",
   "metadata": {},
   "outputs": [],
   "source": [
    "%load_ext autoreload\n",
    "%autoreload 2\n",
    "from alignment_images import alignment_images, plot_images\n",
    "import torch\n",
    "from itertools import cycle\n",
    "import numpy as np\n",
    "import matplotlib.pyplot as plt\n",
    "import logging\n",
    "logging.basicConfig(level=logging.INFO)\n",
    "LOG = logging.getLogger(\"Train\")"
   ]
  },
  {
   "cell_type": "code",
   "execution_count": 3,
   "id": "bc15e574-1de4-4da2-9279-4c379544c6a6",
   "metadata": {},
   "outputs": [],
   "source": [
    "contig=\"chr10\"\n",
    "start= 92631751  \n",
    "stop=92631761\n",
    "\n",
    "genomic_img = alignment_images(\n",
    "    bam_fn='test.sorted.bam',\n",
    "    contig=contig,\n",
    "    start=start,\n",
    "    stop=stop,\n",
    ")"
   ]
  },
  {
   "cell_type": "code",
   "execution_count": 4,
   "id": "6823775a-7bbe-41ce-9302-acc5b82e3e79",
   "metadata": {},
   "outputs": [
    {
     "data": {
      "image/png": "[encoded data removed]",
      "text/plain": [
       "<Figure size 720x720 with 3 Axes>"
      ]
     },
     "metadata": {
      "needs_background": "light"
     },
     "output_type": "display_data"
    }
   ],
   "source": [
    "plot_images(genomic_img)"
   ]
  },
  {
   "cell_type": "code",
   "execution_count": 144,
   "id": "e47da6c1-cdc6-4559-a2fa-8e34d82da601",
   "metadata": {},
   "outputs": [
    {
     "data": {
      "text/plain": [
       "array([4, 4, 4, 4, 4, 4, 4, 4, 4, 4, 0, 0, 0, 0, 0, 0, 0, 0, 0, 0, 0, 0,\n",
       "       0, 0, 0, 0, 0, 0, 0, 0, 0, 0, 0, 0, 0, 0, 0, 0, 0, 0, 0, 0, 0, 0,\n",
       "       0, 0, 0, 0, 0, 0], dtype=int8)"
      ]
     },
     "execution_count": 144,
     "metadata": {},
     "output_type": "execute_result"
    }
   ],
   "source": [
    "genomic_img[0, :, 4] "
   ]
  },
  {
   "cell_type": "code",
   "execution_count": 301,
   "id": "c856c1ee-eb95-4259-a456-8285d9d42276",
   "metadata": {},
   "outputs": [],
   "source": [
    "data_set = []\n",
    "ys = []\n",
    "\n",
    "for i in range(10000):\n",
    "    if i % 2 == 0:\n",
    "        mut_img = np.random.normal(size= np.product(genomic_img.shape))\n",
    "        mut_img = mut_img.reshape(genomic_img.shape)\n",
    "        data_set.append(mut_img)\n",
    "    else:\n",
    "        data_img = genomic_img.copy()\n",
    "        data_img[1,:,:] = data_img[1,:,:] + np.random.normal(loc=0, size=np.product(genomic_img[0].shape)).reshape(genomic_img[1].shape)\n",
    "        data_set.append(genomic_img)\n",
    "    ys.append(i % 2)\n",
    "data_set=np.array(data_set)\n",
    "ys=np.array(ys)"
   ]
  },
  {
   "cell_type": "code",
   "execution_count": 302,
   "id": "66850b16-c253-465c-8bc4-79d3d5f76028",
   "metadata": {},
   "outputs": [],
   "source": [
    "class PseudoSlayClassifier(torch.nn.Module):\n",
    "    def __init__(self):\n",
    "        super().__init__()\n",
    "          \n",
    "        minibatch = 30 \n",
    "        read_depth = 50\n",
    "        base_window_size = 10\n",
    "        base_move_step = 2\n",
    "        \n",
    "        self.conv_layer = torch.nn.Conv2d(\n",
    "            in_channels=3,\n",
    "            out_channels=1,\n",
    "            kernel_size=(read_depth, base_window_size), # scanning 200bp and all 50 reads at a time\n",
    "            stride=base_move_step, # moving 20bp at a time\n",
    "            padding=2\n",
    "        )\n",
    "        self.max_pool = torch.nn.MaxPool2d(kernel_size = (2,1)) # taking 10 best features\n",
    "        self.drop_out = torch.nn.Dropout(p=0.2)\n",
    "        self.linear = torch.nn.Linear(3, 1)\n",
    "        \n",
    "        # set up model\n",
    "        self.model = torch.nn.Sequential(\n",
    "            self.conv_layer,\n",
    "            torch.nn.ReLU(),\n",
    "            self.max_pool,\n",
    "            self.drop_out,\n",
    "            self.linear,\n",
    "            torch.nn.Sigmoid()\n",
    "        )\n",
    "  \n",
    "    def forward(self, x):\n",
    "        return self.model(x)"
   ]
  },
  {
   "cell_type": "code",
   "execution_count": 303,
   "id": "de8cf03a-b1ee-4d2d-9e6f-eb667097a9eb",
   "metadata": {},
   "outputs": [],
   "source": [
    "from sklearn.metrics import f1_score, accuracy_score, precision_score, recall_score\n",
    "\n",
    "def calculate_metrics(y, pred_y, epoch, loss):\n",
    "    '''\n",
    "    Output some metrics\n",
    "    '''\n",
    "    pred_label = pred_y.detach().numpy().round()\n",
    "    accuracy = accuracy_score(y, pred_label)\n",
    "    precision = precision_score(y, pred_label)\n",
    "    recall = recall_score(y, pred_label)\n",
    "    f1 = f1_score(y, pred_label)\n",
    "    LOG.info(\n",
    "        'Mini-batch: %.3f Loss: %.3f Accuracy: %.3f'\n",
    "        ' F1: %.3f Precision %.3f Recall %.3f', \n",
    "        epoch, \n",
    "        loss, \n",
    "        accuracy, \n",
    "        f1, \n",
    "        precision, \n",
    "        recall\n",
    "    )\n",
    "    \n",
    "\n",
    "\n",
    "model = PseudoSlayClassifier()\n",
    "optimizer = torch.optim.Adam(model.parameters(), \n",
    "                          lr = 0.001)"
   ]
  },
  {
   "cell_type": "code",
   "execution_count": 304,
   "id": "df133264-10ee-42dc-a3a2-16cf584aa8df",
   "metadata": {},
   "outputs": [
    {
     "name": "stderr",
     "output_type": "stream",
     "text": [
      "/Users/wckdouglas/code/mambaforge/envs/pytorch/lib/python3.10/site-packages/sklearn/metrics/_classification.py:1327: UndefinedMetricWarning: Precision is ill-defined and being set to 0.0 due to no predicted samples. Use `zero_division` parameter to control this behavior.\n",
      "  _warn_prf(average, modifier, msg_start, len(result))\n",
      "INFO:Train:Mini-batch: 0.000 Loss: 0.732 Accuracy: 0.500 F1: 0.000 Precision 0.000 Recall 0.000\n",
      "INFO:Train:Mini-batch: 1000.000 Loss: 0.215 Accuracy: 1.000 F1: 1.000 Precision 1.000 Recall 1.000\n",
      "INFO:Train:Mini-batch: 2000.000 Loss: 0.151 Accuracy: 1.000 F1: 1.000 Precision 1.000 Recall 1.000\n",
      "INFO:Train:Mini-batch: 3000.000 Loss: 0.103 Accuracy: 1.000 F1: 1.000 Precision 1.000 Recall 1.000\n",
      "INFO:Train:Mini-batch: 4000.000 Loss: 0.066 Accuracy: 1.000 F1: 1.000 Precision 1.000 Recall 1.000\n",
      "INFO:Train:Mini-batch: 5000.000 Loss: 0.008 Accuracy: 1.000 F1: 1.000 Precision 1.000 Recall 1.000\n",
      "INFO:Train:Mini-batch: 6000.000 Loss: 0.017 Accuracy: 1.000 F1: 1.000 Precision 1.000 Recall 1.000\n",
      "INFO:Train:Mini-batch: 7000.000 Loss: 0.019 Accuracy: 1.000 F1: 1.000 Precision 1.000 Recall 1.000\n",
      "INFO:Train:Mini-batch: 8000.000 Loss: 0.019 Accuracy: 1.000 F1: 1.000 Precision 1.000 Recall 1.000\n",
      "INFO:Train:Mini-batch: 9000.000 Loss: 0.014 Accuracy: 1.000 F1: 1.000 Precision 1.000 Recall 1.000\n"
     ]
    }
   ],
   "source": [
    "losses = []\n",
    "steps=10000\n",
    "for step in range(steps):\n",
    "    optimizer.zero_grad()\n",
    "\n",
    "    # get data\n",
    "    idx = np.random.randint(0,500, size=10)\n",
    "    X = torch.Tensor(data_set[idx])\n",
    "    y = torch.Tensor(ys[idx])\n",
    "\n",
    "    #get prediction (forward)\n",
    "    pred_y = model(X)\n",
    "    pred_y = pred_y.view(-1)\n",
    "    #assert sum(pred_y != pred_y).item() == 0, pred_y\n",
    "    loss = torch.nn.functional.binary_cross_entropy(pred_y, y)\n",
    "    losses.append(loss.detach().numpy())\n",
    "\n",
    "    # update gradient\n",
    "    loss.backward()\n",
    "    optimizer.step()\n",
    "    if step % 1000 == 0:\n",
    "        calculate_metrics(y.detach().numpy(), pred_y, epoch=step, loss=float(loss.detach().numpy()) )"
   ]
  },
  {
   "cell_type": "code",
   "execution_count": 305,
   "id": "56e5a877-50ac-4b36-8989-5baa5d956027",
   "metadata": {},
   "outputs": [
    {
     "data": {
      "text/plain": [
       "[<matplotlib.lines.Line2D at 0x154c22170>]"
      ]
     },
     "execution_count": 305,
     "metadata": {},
     "output_type": "execute_result"
    },
    {
     "data": {
      "image/png": "[encoded data removed]",
      "text/plain": [
       "<Figure size 432x288 with 1 Axes>"
      ]
     },
     "metadata": {
      "needs_background": "light"
     },
     "output_type": "display_data"
    }
   ],
   "source": [
    "plt.plot(losses)"
   ]
  },
  {
   "cell_type": "code",
   "execution_count": 306,
   "id": "739ee09b-927d-43d4-83ee-59bf6050ec8a",
   "metadata": {},
   "outputs": [],
   "source": [
    "pred_y = model(X)"
   ]
  },
  {
   "cell_type": "code",
   "execution_count": 307,
   "id": "c25baf23-b122-4b33-bdfb-ef1ef5eeab0c",
   "metadata": {},
   "outputs": [],
   "source": [
    "pred = (pred_y.detach().numpy().reshape(-1))\n",
    "pred[pred>0.5]=1\n",
    "pred[pred<0.5]=0"
   ]
  },
  {
   "cell_type": "code",
   "execution_count": 308,
   "id": "498a8708-2253-4f6c-87d3-a3b5ace41fcc",
   "metadata": {},
   "outputs": [
    {
     "data": {
      "text/plain": [
       "tensor([1., 1., 1., 0., 1., 1., 1., 0., 0., 0.])"
      ]
     },
     "execution_count": 308,
     "metadata": {},
     "output_type": "execute_result"
    }
   ],
   "source": [
    "y"
   ]
  },
  {
   "cell_type": "code",
   "execution_count": 309,
   "id": "f87d4a44-8e2b-4eda-9995-00bec5230bd4",
   "metadata": {},
   "outputs": [
    {
     "data": {
      "text/plain": [
       "array([1., 1., 1., 0., 1., 1., 1., 0., 0., 0.], dtype=float32)"
      ]
     },
     "execution_count": 309,
     "metadata": {},
     "output_type": "execute_result"
    }
   ],
   "source": [
    "pred"
   ]
  }
 ],
 "metadata": {
  "kernelspec": {
   "display_name": "Pytorch",
   "language": "python",
   "name": "pytorch"
  },
  "language_info": {
   "codemirror_mode": {
    "name": "ipython",
    "version": 3
   },
   "file_extension": ".py",
   "mimetype": "text/x-python",
   "name": "python",
   "nbconvert_exporter": "python",
   "pygments_lexer": "ipython3",
   "version": "3.10.5"
  }
 },
 "nbformat": 4,
 "nbformat_minor": 5
}
